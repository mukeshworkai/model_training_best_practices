{
 "cells": [
  {
   "cell_type": "markdown",
   "metadata": {
    "colab_type": "text",
    "id": "view-in-github"
   },
   "source": [
    "<a href=\"https://colab.research.google.com/github/axel-sirota/model_training_best_practices/blob/master/module2/ModelTraining_Mod2Demo2_Train_test_split.ipynb\" target=\"_parent\"><img src=\"https://colab.research.google.com/assets/colab-badge.svg\" alt=\"Open In Colab\"/></a>"
   ]
  },
  {
   "cell_type": "markdown",
   "metadata": {
    "id": "nY8ye0UJkn37"
   },
   "source": [
    "# Train Test Split\n",
    "\n",
    "© Data Trainers LLC. GPL v 3.0.\n",
    "\n",
    "Author: Axel Sirota"
   ]
  },
  {
   "cell_type": "code",
   "execution_count": 1,
   "metadata": {
    "id": "rZyrLRZPkZvA"
   },
   "outputs": [],
   "source": [
    "import numpy as np\n",
    "import pandas as pd\n",
    "from sklearn import linear_model, model_selection, metrics\n",
    "\n",
    "import warnings\n",
    "warnings.filterwarnings('ignore')"
   ]
  },
  {
   "cell_type": "markdown",
   "metadata": {
    "id": "AqgJrxb3knbj"
   },
   "source": [
    "First let's download the dataset"
   ]
  },
  {
   "cell_type": "code",
   "execution_count": 2,
   "metadata": {
    "colab": {
     "base_uri": "https://localhost:8080/"
    },
    "id": "jgxKDAVOk40n",
    "outputId": "81336945-4296-417d-e2ca-666e177aab4d"
   },
   "outputs": [
    {
     "name": "stdout",
     "output_type": "stream",
     "text": [
      "Overwriting get_data.sh\n"
     ]
    }
   ],
   "source": [
    "%%writefile get_data.sh\n",
    "mkdir -p data\n",
    "if [ ! -f data/glass.csv ]; then\n",
    "  wget -O data/glass.csv https://www.dropbox.com/scl/fi/dv522a61am4dsc3vkfp4p/glass.csv?rlkey=6l9v685sw98plzj2myvtjpes6&dl=0\n",
    "fi"
   ]
  },
  {
   "cell_type": "code",
   "execution_count": 3,
   "metadata": {
    "colab": {
     "base_uri": "https://localhost:8080/"
    },
    "id": "V-oeHfhlk-NK",
    "outputId": "907cec62-f9ed-491c-9027-71c31772942e"
   },
   "outputs": [],
   "source": [
    "!bash get_data.sh"
   ]
  },
  {
   "cell_type": "code",
   "execution_count": null,
   "metadata": {
    "colab": {
     "base_uri": "https://localhost:8080/",
     "height": 143
    },
    "id": "sG6np_Vkk_cV",
    "outputId": "d7f90ca4-626d-45a2-bc69-47a6f555b0f3"
   },
   "outputs": [],
   "source": [
    "glass = pd.read_csv('data/glass.csv')\n",
    "glass.columns = ['ri','na','mg','al','si','k','ca','ba','fe','glass_type']\n",
    "glass.head(3)"
   ]
  },
  {
   "cell_type": "markdown",
   "metadata": {
    "id": "B1VUPyyIlQen"
   },
   "source": [
    "**Pretend we want to predict `ri`, how can we know the best set of features? How could we do it using machine learning?**\n",
    "\n",
    "\n",
    "**Answer:** We use *Train/Test/Validation splits* to train the model with the **Train set**, select the best model on a given metric with the **Validation set**, and finally get a measurement of the model performance on the **Test set**.\n"
   ]
  },
  {
   "cell_type": "markdown",
   "metadata": {
    "id": "6teWh8x5swv7"
   },
   "source": [
    "We will use a different regression algorithm, Ridge Regression, that has a *hyperparameter* to showcase the power of train/validation/test splits."
   ]
  },
  {
   "cell_type": "code",
   "execution_count": null,
   "metadata": {
    "id": "bhPKHtwJts7k"
   },
   "outputs": [],
   "source": [
    "# Do the split\n",
    "from sklearn.model_selection import train_test_split\n",
    "\n",
    "glass_pretrain, glass_test = train_test_split(glass, test_size = 0.2, random_state = 42)"
   ]
  },
  {
   "cell_type": "code",
   "execution_count": null,
   "metadata": {
    "id": "3ghXQ3CQt4Tn"
   },
   "outputs": [],
   "source": [
    "glass_train, glass_validation = train_test_split(glass_pretrain, test_size = 0.25, random_state = 42)"
   ]
  },
  {
   "cell_type": "markdown",
   "metadata": {
    "id": "SG-fc4ryuSXF"
   },
   "source": [
    "Notice we do 2 splits to end up with a 60/20/20 proportion!"
   ]
  },
  {
   "cell_type": "code",
   "execution_count": null,
   "metadata": {
    "id": "DgK5XxpVqFXG"
   },
   "outputs": [],
   "source": [
    "from sklearn.linear_model import Ridge\n",
    "\n",
    "\n",
    "# First we create a function that on a given feature set it will train the model and return the model performance\n",
    "def get_model_performance(feature_cols, alpha):\n",
    "\n",
    "  # Basic start\n",
    "  X = glass_train[feature_cols]\n",
    "  y = glass_train.ri\n",
    "  model = Ridge(alpha=alpha)\n",
    "\n",
    "  # Train\n",
    "\n",
    "  model.fit(X, y)\n",
    "\n",
    "  # Predict\n",
    "\n",
    "  y_pred = model.predict(glass_validation[feature_cols])\n",
    "  y_true = glass_validation.ri\n",
    "\n",
    "  return np.sqrt(metrics.mean_squared_error(y_pred, y_true))"
   ]
  },
  {
   "cell_type": "markdown",
   "metadata": {
    "id": "x-s2XkReu99H"
   },
   "source": [
    "Let's test this"
   ]
  },
  {
   "cell_type": "code",
   "execution_count": null,
   "metadata": {
    "colab": {
     "base_uri": "https://localhost:8080/"
    },
    "id": "Lzi6RhuEu8ug",
    "outputId": "92f5ac28-0caa-4844-9d40-a4709bec0c3c"
   },
   "outputs": [
    {
     "data": {
      "text/plain": [
       "0.0021685024069272997"
      ]
     },
     "execution_count": 14,
     "metadata": {},
     "output_type": "execute_result"
    }
   ],
   "source": [
    "get_model_performance(['al'], 1)"
   ]
  },
  {
   "cell_type": "markdown",
   "metadata": {
    "id": "4qRAG571vROY"
   },
   "source": [
    "It works! Let's test a bunch of feature combinations and alphas"
   ]
  },
  {
   "cell_type": "code",
   "execution_count": null,
   "metadata": {
    "id": "C6fXeSInvCBj"
   },
   "outputs": [],
   "source": [
    "results = {}\n",
    "for alpha in np.linspace(0.5, 2, 10):\n",
    "  for feature_cols in [['na','mg'], ['na','mg', 'al'], ['al','si','k']]:\n",
    "    results[(alpha, tuple(feature_cols))] = get_model_performance(feature_cols, alpha=alpha)"
   ]
  },
  {
   "cell_type": "code",
   "execution_count": null,
   "metadata": {
    "colab": {
     "base_uri": "https://localhost:8080/"
    },
    "id": "8O5MH1Yzvae6",
    "outputId": "063d7907-d987-449a-eeae-b7618621f684"
   },
   "outputs": [
    {
     "data": {
      "text/plain": [
       "{(0.5, ('na', 'mg')): 0.002582784313827305,\n",
       " (0.5, ('na', 'mg', 'al')): 0.0022065951256895395,\n",
       " (0.5, ('al', 'si', 'k')): 0.001985998574703533,\n",
       " (0.6666666666666666, ('na', 'mg')): 0.002582743449127876,\n",
       " (0.6666666666666666, ('na', 'mg', 'al')): 0.0022046074240648595,\n",
       " (0.6666666666666666, ('al', 'si', 'k')): 0.00198523926415055,\n",
       " (0.8333333333333333, ('na', 'mg')): 0.002582702558272736,\n",
       " (0.8333333333333333, ('na', 'mg', 'al')): 0.0022027111115613565,\n",
       " (0.8333333333333333, ('al', 'si', 'k')): 0.001984506228521506,\n",
       " (1.0, ('na', 'mg')): 0.0025826616413630946,\n",
       " (1.0, ('na', 'mg', 'al')): 0.0022009031173304814,\n",
       " (1.0, ('al', 'si', 'k')): 0.0019837987913295225,\n",
       " (1.1666666666666665, ('na', 'mg')): 0.002582620698507875,\n",
       " (1.1666666666666665, ('na', 'mg', 'al')): 0.0021991804783616595,\n",
       " (1.1666666666666665, ('al', 'si', 'k')): 0.0019831162978338414,\n",
       " (1.3333333333333333, ('na', 'mg')): 0.0025825797298233205,\n",
       " (1.3333333333333333, ('na', 'mg', 'al')): 0.002197540335399412,\n",
       " (1.3333333333333333, ('al', 'si', 'k')): 0.0019824581141796955,\n",
       " (1.5, ('na', 'mg')): 0.002582538735433103,\n",
       " (1.5, ('na', 'mg', 'al')): 0.002195979929026891,\n",
       " (1.5, ('al', 'si', 'k')): 0.001981823626578578,\n",
       " (1.6666666666666665, ('na', 'mg')): 0.0025824977154677506,\n",
       " (1.6666666666666665, ('na', 'mg', 'al')): 0.002194496595908131,\n",
       " (1.6666666666666665, ('al', 'si', 'k')): 0.001981212240525915,\n",
       " (1.8333333333333333, ('na', 'mg')): 0.002582456670064699,\n",
       " (1.8333333333333333, ('na', 'mg', 'al')): 0.0021930877651824936,\n",
       " (1.8333333333333333, ('al', 'si', 'k')): 0.0019806233800552,\n",
       " (2.0, ('na', 'mg')): 0.002582415599367948,\n",
       " (2.0, ('na', 'mg', 'al')): 0.002191750955004437,\n",
       " (2.0, ('al', 'si', 'k')): 0.0019800564870258238}"
      ]
     },
     "execution_count": 21,
     "metadata": {},
     "output_type": "execute_result"
    }
   ],
   "source": [
    "results"
   ]
  },
  {
   "cell_type": "markdown",
   "metadata": {
    "id": "uc0LxUDGwPNK"
   },
   "source": [
    "Let's select the best"
   ]
  },
  {
   "cell_type": "code",
   "execution_count": null,
   "metadata": {
    "colab": {
     "base_uri": "https://localhost:8080/"
    },
    "id": "a0EbrK-PwGU2",
    "outputId": "2dfa706c-36e4-4596-b429-30801cd6b48e"
   },
   "outputs": [
    {
     "data": {
      "text/plain": [
       "(2.0, ('al', 'si', 'k'))"
      ]
     },
     "execution_count": 24,
     "metadata": {},
     "output_type": "execute_result"
    }
   ],
   "source": [
    "min(results, key=results.get)"
   ]
  },
  {
   "cell_type": "code",
   "execution_count": null,
   "metadata": {
    "colab": {
     "base_uri": "https://localhost:8080/"
    },
    "id": "PlAP4xPswRxl",
    "outputId": "f68fbcfd-8138-43fc-fe67-3fa7ad115ec1"
   },
   "outputs": [
    {
     "data": {
      "text/plain": [
       "0.0019800564870258238"
      ]
     },
     "execution_count": 26,
     "metadata": {},
     "output_type": "execute_result"
    }
   ],
   "source": [
    "results[min(results, key=results.get)]"
   ]
  },
  {
   "cell_type": "markdown",
   "metadata": {
    "id": "R32f5WkUwdYs"
   },
   "source": [
    "Now let's evaluate the true model performance"
   ]
  },
  {
   "cell_type": "code",
   "execution_count": null,
   "metadata": {
    "colab": {
     "base_uri": "https://localhost:8080/"
    },
    "id": "KRgbqCgYwVHg",
    "outputId": "7623cbae-fc16-442b-84e9-06df55358cd1"
   },
   "outputs": [
    {
     "data": {
      "text/plain": [
       "0.0022154513457950113"
      ]
     },
     "execution_count": 27,
     "metadata": {},
     "output_type": "execute_result"
    }
   ],
   "source": [
    "feature_cols = ['al', 'si', 'k']\n",
    "X = glass_train[feature_cols]\n",
    "y = glass_train.ri\n",
    "\n",
    "model = Ridge(alpha=2)\n",
    "\n",
    "model.fit(X, y)\n",
    "\n",
    "y_pred = model.predict(glass_test[feature_cols])\n",
    "y_true = glass_test.ri\n",
    "\n",
    "np.sqrt(metrics.mean_squared_error(y_pred, y_true))"
   ]
  },
  {
   "cell_type": "markdown",
   "metadata": {
    "id": "fHYSLwlgw_C1"
   },
   "source": [
    "Notice how the value is a little worse, but that is OK and expected! This is how we use the *train/validation/test* splits to select the best model"
   ]
  },
  {
   "cell_type": "code",
   "execution_count": null,
   "metadata": {
    "id": "ST4ZOwjmw9nL"
   },
   "outputs": [],
   "source": []
  }
 ],
 "metadata": {
  "colab": {
   "authorship_tag": "ABX9TyM5NyV1yZjTOd8Obt7esIla",
   "include_colab_link": true,
   "provenance": []
  },
  "kernelspec": {
   "display_name": "base",
   "language": "python",
   "name": "python3"
  },
  "language_info": {
   "codemirror_mode": {
    "name": "ipython",
    "version": 3
   },
   "file_extension": ".py",
   "mimetype": "text/x-python",
   "name": "python",
   "nbconvert_exporter": "python",
   "pygments_lexer": "ipython3",
   "version": "3.10.15"
  }
 },
 "nbformat": 4,
 "nbformat_minor": 0
}
