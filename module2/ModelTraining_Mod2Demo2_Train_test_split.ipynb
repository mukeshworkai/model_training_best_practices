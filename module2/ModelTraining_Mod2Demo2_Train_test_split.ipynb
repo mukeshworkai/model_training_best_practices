{
 "cells": [
  {
   "cell_type": "markdown",
   "metadata": {
    "colab_type": "text",
    "id": "view-in-github"
   },
   "source": [
    "<a href=\"https://colab.research.google.com/github/axel-sirota/model_training_best_practices/blob/master/module2/ModelTraining_Mod2Demo2_Train_test_split.ipynb\" target=\"_parent\"><img src=\"https://colab.research.google.com/assets/colab-badge.svg\" alt=\"Open In Colab\"/></a>"
   ]
  },
  {
   "cell_type": "markdown",
   "metadata": {
    "id": "nY8ye0UJkn37"
   },
   "source": [
    "# Train Test Split\n",
    "\n",
    "© Data Trainers LLC. GPL v 3.0.\n",
    "\n",
    "Author: Axel Sirota"
   ]
  },
  {
   "cell_type": "code",
   "execution_count": null,
   "metadata": {
    "id": "rZyrLRZPkZvA"
   },
   "outputs": [],
   "source": [
    "import numpy as np\n",
    "import pandas as pd\n",
    "from sklearn import linear_model, model_selection, metrics\n",
    "\n",
    "import warnings\n",
    "warnings.filterwarnings('ignore')"
   ]
  },
  {
   "cell_type": "markdown",
   "metadata": {
    "id": "AqgJrxb3knbj"
   },
   "source": [
    "First let's download the dataset"
   ]
  },
  {
   "cell_type": "code",
   "execution_count": null,
   "metadata": {
    "colab": {
     "base_uri": "https://localhost:8080/"
    },
    "id": "jgxKDAVOk40n",
    "outputId": "81336945-4296-417d-e2ca-666e177aab4d"
   },
   "outputs": [
    {
     "name": "stdout",
     "output_type": "stream",
     "text": [
      "Writing get_data.sh\n"
     ]
    }
   ],
   "source": [
    "%%writefile get_data.sh\n",
    "mkdir -p data\n",
    "if [ ! -f data/glass.csv ]; then\n",
    "  wget -O data/glass.csv https://www.dropbox.com/scl/fi/dv522a61am4dsc3vkfp4p/glass.csv?rlkey=6l9v685sw98plzj2myvtjpes6&dl=0\n",
    "fi"
   ]
  },
  {
   "cell_type": "code",
   "execution_count": null,
   "metadata": {
    "colab": {
     "base_uri": "https://localhost:8080/"
    },
    "id": "V-oeHfhlk-NK",
    "outputId": "907cec62-f9ed-491c-9027-71c31772942e"
   },
   "outputs": [
    {
     "name": "stdout",
     "output_type": "stream",
     "text": [
      "--2023-12-05 20:33:21--  https://www.dropbox.com/scl/fi/dv522a61am4dsc3vkfp4p/glass.csv?rlkey=6l9v685sw98plzj2myvtjpes6\n",
      "Resolving www.dropbox.com (www.dropbox.com)... 162.125.13.18, 2620:100:601c:18::a27d:612\n",
      "Connecting to www.dropbox.com (www.dropbox.com)|162.125.13.18|:443... connected.\n",
      "HTTP request sent, awaiting response... 302 Found\n",
      "Location: https://ucb0beca7b945a3b6cb73a2eb19d.dl.dropboxusercontent.com/cd/0/inline/CI1SwSyWdvHixVGRXz2Rw_N3FoEYra37T1_5OvvtKFk0ihMx4CnLiMPIKr5pWYAiYF6DjjuCDZCOLvtz2Pltytk2uyzJwHG4Wwqi69CIoWMgreXY3WBuo3XmD1JUznap4HY96jf6ZYZMT1_qSDEkgyw7/file# [following]\n",
      "--2023-12-05 20:33:21--  https://ucb0beca7b945a3b6cb73a2eb19d.dl.dropboxusercontent.com/cd/0/inline/CI1SwSyWdvHixVGRXz2Rw_N3FoEYra37T1_5OvvtKFk0ihMx4CnLiMPIKr5pWYAiYF6DjjuCDZCOLvtz2Pltytk2uyzJwHG4Wwqi69CIoWMgreXY3WBuo3XmD1JUznap4HY96jf6ZYZMT1_qSDEkgyw7/file\n",
      "Resolving ucb0beca7b945a3b6cb73a2eb19d.dl.dropboxusercontent.com (ucb0beca7b945a3b6cb73a2eb19d.dl.dropboxusercontent.com)... 162.125.3.15, 2620:100:6057:15::a27d:d0f\n",
      "Connecting to ucb0beca7b945a3b6cb73a2eb19d.dl.dropboxusercontent.com (ucb0beca7b945a3b6cb73a2eb19d.dl.dropboxusercontent.com)|162.125.3.15|:443... connected.\n",
      "HTTP request sent, awaiting response... 200 OK\n",
      "Length: 10053 (9.8K) [text/plain]\n",
      "Saving to: ‘data/glass.csv’\n",
      "\n",
      "data/glass.csv      100%[===================>]   9.82K  --.-KB/s    in 0s      \n",
      "\n",
      "2023-12-05 20:33:22 (218 MB/s) - ‘data/glass.csv’ saved [10053/10053]\n",
      "\n"
     ]
    }
   ],
   "source": [
    "!bash get_data.sh"
   ]
  },
  {
   "cell_type": "code",
   "execution_count": null,
   "metadata": {
    "colab": {
     "base_uri": "https://localhost:8080/",
     "height": 143
    },
    "id": "sG6np_Vkk_cV",
    "outputId": "d7f90ca4-626d-45a2-bc69-47a6f555b0f3"
   },
   "outputs": [
    {
     "data": {
      "text/html": [
       "\n",
       "  <div id=\"df-77f322ca-5f34-4bf1-9a6d-de8e24020cb2\" class=\"colab-df-container\">\n",
       "    <div>\n",
       "<style scoped>\n",
       "    .dataframe tbody tr th:only-of-type {\n",
       "        vertical-align: middle;\n",
       "    }\n",
       "\n",
       "    .dataframe tbody tr th {\n",
       "        vertical-align: top;\n",
       "    }\n",
       "\n",
       "    .dataframe thead th {\n",
       "        text-align: right;\n",
       "    }\n",
       "</style>\n",
       "<table border=\"1\" class=\"dataframe\">\n",
       "  <thead>\n",
       "    <tr style=\"text-align: right;\">\n",
       "      <th></th>\n",
       "      <th>ri</th>\n",
       "      <th>na</th>\n",
       "      <th>mg</th>\n",
       "      <th>al</th>\n",
       "      <th>si</th>\n",
       "      <th>k</th>\n",
       "      <th>ca</th>\n",
       "      <th>ba</th>\n",
       "      <th>fe</th>\n",
       "      <th>glass_type</th>\n",
       "    </tr>\n",
       "  </thead>\n",
       "  <tbody>\n",
       "    <tr>\n",
       "      <th>0</th>\n",
       "      <td>1.52101</td>\n",
       "      <td>13.64</td>\n",
       "      <td>4.49</td>\n",
       "      <td>1.10</td>\n",
       "      <td>71.78</td>\n",
       "      <td>0.06</td>\n",
       "      <td>8.75</td>\n",
       "      <td>0.0</td>\n",
       "      <td>0.0</td>\n",
       "      <td>1</td>\n",
       "    </tr>\n",
       "    <tr>\n",
       "      <th>1</th>\n",
       "      <td>1.51761</td>\n",
       "      <td>13.89</td>\n",
       "      <td>3.60</td>\n",
       "      <td>1.36</td>\n",
       "      <td>72.73</td>\n",
       "      <td>0.48</td>\n",
       "      <td>7.83</td>\n",
       "      <td>0.0</td>\n",
       "      <td>0.0</td>\n",
       "      <td>1</td>\n",
       "    </tr>\n",
       "    <tr>\n",
       "      <th>2</th>\n",
       "      <td>1.51618</td>\n",
       "      <td>13.53</td>\n",
       "      <td>3.55</td>\n",
       "      <td>1.54</td>\n",
       "      <td>72.99</td>\n",
       "      <td>0.39</td>\n",
       "      <td>7.78</td>\n",
       "      <td>0.0</td>\n",
       "      <td>0.0</td>\n",
       "      <td>1</td>\n",
       "    </tr>\n",
       "  </tbody>\n",
       "</table>\n",
       "</div>\n",
       "    <div class=\"colab-df-buttons\">\n",
       "\n",
       "  <div class=\"colab-df-container\">\n",
       "    <button class=\"colab-df-convert\" onclick=\"convertToInteractive('df-77f322ca-5f34-4bf1-9a6d-de8e24020cb2')\"\n",
       "            title=\"Convert this dataframe to an interactive table.\"\n",
       "            style=\"display:none;\">\n",
       "\n",
       "  <svg xmlns=\"http://www.w3.org/2000/svg\" height=\"24px\" viewBox=\"0 -960 960 960\">\n",
       "    <path d=\"M120-120v-720h720v720H120Zm60-500h600v-160H180v160Zm220 220h160v-160H400v160Zm0 220h160v-160H400v160ZM180-400h160v-160H180v160Zm440 0h160v-160H620v160ZM180-180h160v-160H180v160Zm440 0h160v-160H620v160Z\"/>\n",
       "  </svg>\n",
       "    </button>\n",
       "\n",
       "  <style>\n",
       "    .colab-df-container {\n",
       "      display:flex;\n",
       "      gap: 12px;\n",
       "    }\n",
       "\n",
       "    .colab-df-convert {\n",
       "      background-color: #E8F0FE;\n",
       "      border: none;\n",
       "      border-radius: 50%;\n",
       "      cursor: pointer;\n",
       "      display: none;\n",
       "      fill: #1967D2;\n",
       "      height: 32px;\n",
       "      padding: 0 0 0 0;\n",
       "      width: 32px;\n",
       "    }\n",
       "\n",
       "    .colab-df-convert:hover {\n",
       "      background-color: #E2EBFA;\n",
       "      box-shadow: 0px 1px 2px rgba(60, 64, 67, 0.3), 0px 1px 3px 1px rgba(60, 64, 67, 0.15);\n",
       "      fill: #174EA6;\n",
       "    }\n",
       "\n",
       "    .colab-df-buttons div {\n",
       "      margin-bottom: 4px;\n",
       "    }\n",
       "\n",
       "    [theme=dark] .colab-df-convert {\n",
       "      background-color: #3B4455;\n",
       "      fill: #D2E3FC;\n",
       "    }\n",
       "\n",
       "    [theme=dark] .colab-df-convert:hover {\n",
       "      background-color: #434B5C;\n",
       "      box-shadow: 0px 1px 3px 1px rgba(0, 0, 0, 0.15);\n",
       "      filter: drop-shadow(0px 1px 2px rgba(0, 0, 0, 0.3));\n",
       "      fill: #FFFFFF;\n",
       "    }\n",
       "  </style>\n",
       "\n",
       "    <script>\n",
       "      const buttonEl =\n",
       "        document.querySelector('#df-77f322ca-5f34-4bf1-9a6d-de8e24020cb2 button.colab-df-convert');\n",
       "      buttonEl.style.display =\n",
       "        google.colab.kernel.accessAllowed ? 'block' : 'none';\n",
       "\n",
       "      async function convertToInteractive(key) {\n",
       "        const element = document.querySelector('#df-77f322ca-5f34-4bf1-9a6d-de8e24020cb2');\n",
       "        const dataTable =\n",
       "          await google.colab.kernel.invokeFunction('convertToInteractive',\n",
       "                                                    [key], {});\n",
       "        if (!dataTable) return;\n",
       "\n",
       "        const docLinkHtml = 'Like what you see? Visit the ' +\n",
       "          '<a target=\"_blank\" href=https://colab.research.google.com/notebooks/data_table.ipynb>data table notebook</a>'\n",
       "          + ' to learn more about interactive tables.';\n",
       "        element.innerHTML = '';\n",
       "        dataTable['output_type'] = 'display_data';\n",
       "        await google.colab.output.renderOutput(dataTable, element);\n",
       "        const docLink = document.createElement('div');\n",
       "        docLink.innerHTML = docLinkHtml;\n",
       "        element.appendChild(docLink);\n",
       "      }\n",
       "    </script>\n",
       "  </div>\n",
       "\n",
       "\n",
       "<div id=\"df-44fd9e80-ae91-4c5c-83a6-756dd2b2333a\">\n",
       "  <button class=\"colab-df-quickchart\" onclick=\"quickchart('df-44fd9e80-ae91-4c5c-83a6-756dd2b2333a')\"\n",
       "            title=\"Suggest charts\"\n",
       "            style=\"display:none;\">\n",
       "\n",
       "<svg xmlns=\"http://www.w3.org/2000/svg\" height=\"24px\"viewBox=\"0 0 24 24\"\n",
       "     width=\"24px\">\n",
       "    <g>\n",
       "        <path d=\"M19 3H5c-1.1 0-2 .9-2 2v14c0 1.1.9 2 2 2h14c1.1 0 2-.9 2-2V5c0-1.1-.9-2-2-2zM9 17H7v-7h2v7zm4 0h-2V7h2v10zm4 0h-2v-4h2v4z\"/>\n",
       "    </g>\n",
       "</svg>\n",
       "  </button>\n",
       "\n",
       "<style>\n",
       "  .colab-df-quickchart {\n",
       "      --bg-color: #E8F0FE;\n",
       "      --fill-color: #1967D2;\n",
       "      --hover-bg-color: #E2EBFA;\n",
       "      --hover-fill-color: #174EA6;\n",
       "      --disabled-fill-color: #AAA;\n",
       "      --disabled-bg-color: #DDD;\n",
       "  }\n",
       "\n",
       "  [theme=dark] .colab-df-quickchart {\n",
       "      --bg-color: #3B4455;\n",
       "      --fill-color: #D2E3FC;\n",
       "      --hover-bg-color: #434B5C;\n",
       "      --hover-fill-color: #FFFFFF;\n",
       "      --disabled-bg-color: #3B4455;\n",
       "      --disabled-fill-color: #666;\n",
       "  }\n",
       "\n",
       "  .colab-df-quickchart {\n",
       "    background-color: var(--bg-color);\n",
       "    border: none;\n",
       "    border-radius: 50%;\n",
       "    cursor: pointer;\n",
       "    display: none;\n",
       "    fill: var(--fill-color);\n",
       "    height: 32px;\n",
       "    padding: 0;\n",
       "    width: 32px;\n",
       "  }\n",
       "\n",
       "  .colab-df-quickchart:hover {\n",
       "    background-color: var(--hover-bg-color);\n",
       "    box-shadow: 0 1px 2px rgba(60, 64, 67, 0.3), 0 1px 3px 1px rgba(60, 64, 67, 0.15);\n",
       "    fill: var(--button-hover-fill-color);\n",
       "  }\n",
       "\n",
       "  .colab-df-quickchart-complete:disabled,\n",
       "  .colab-df-quickchart-complete:disabled:hover {\n",
       "    background-color: var(--disabled-bg-color);\n",
       "    fill: var(--disabled-fill-color);\n",
       "    box-shadow: none;\n",
       "  }\n",
       "\n",
       "  .colab-df-spinner {\n",
       "    border: 2px solid var(--fill-color);\n",
       "    border-color: transparent;\n",
       "    border-bottom-color: var(--fill-color);\n",
       "    animation:\n",
       "      spin 1s steps(1) infinite;\n",
       "  }\n",
       "\n",
       "  @keyframes spin {\n",
       "    0% {\n",
       "      border-color: transparent;\n",
       "      border-bottom-color: var(--fill-color);\n",
       "      border-left-color: var(--fill-color);\n",
       "    }\n",
       "    20% {\n",
       "      border-color: transparent;\n",
       "      border-left-color: var(--fill-color);\n",
       "      border-top-color: var(--fill-color);\n",
       "    }\n",
       "    30% {\n",
       "      border-color: transparent;\n",
       "      border-left-color: var(--fill-color);\n",
       "      border-top-color: var(--fill-color);\n",
       "      border-right-color: var(--fill-color);\n",
       "    }\n",
       "    40% {\n",
       "      border-color: transparent;\n",
       "      border-right-color: var(--fill-color);\n",
       "      border-top-color: var(--fill-color);\n",
       "    }\n",
       "    60% {\n",
       "      border-color: transparent;\n",
       "      border-right-color: var(--fill-color);\n",
       "    }\n",
       "    80% {\n",
       "      border-color: transparent;\n",
       "      border-right-color: var(--fill-color);\n",
       "      border-bottom-color: var(--fill-color);\n",
       "    }\n",
       "    90% {\n",
       "      border-color: transparent;\n",
       "      border-bottom-color: var(--fill-color);\n",
       "    }\n",
       "  }\n",
       "</style>\n",
       "\n",
       "  <script>\n",
       "    async function quickchart(key) {\n",
       "      const quickchartButtonEl =\n",
       "        document.querySelector('#' + key + ' button');\n",
       "      quickchartButtonEl.disabled = true;  // To prevent multiple clicks.\n",
       "      quickchartButtonEl.classList.add('colab-df-spinner');\n",
       "      try {\n",
       "        const charts = await google.colab.kernel.invokeFunction(\n",
       "            'suggestCharts', [key], {});\n",
       "      } catch (error) {\n",
       "        console.error('Error during call to suggestCharts:', error);\n",
       "      }\n",
       "      quickchartButtonEl.classList.remove('colab-df-spinner');\n",
       "      quickchartButtonEl.classList.add('colab-df-quickchart-complete');\n",
       "    }\n",
       "    (() => {\n",
       "      let quickchartButtonEl =\n",
       "        document.querySelector('#df-44fd9e80-ae91-4c5c-83a6-756dd2b2333a button');\n",
       "      quickchartButtonEl.style.display =\n",
       "        google.colab.kernel.accessAllowed ? 'block' : 'none';\n",
       "    })();\n",
       "  </script>\n",
       "</div>\n",
       "\n",
       "    </div>\n",
       "  </div>\n"
      ],
      "text/plain": [
       "        ri     na    mg    al     si     k    ca   ba   fe  glass_type\n",
       "0  1.52101  13.64  4.49  1.10  71.78  0.06  8.75  0.0  0.0           1\n",
       "1  1.51761  13.89  3.60  1.36  72.73  0.48  7.83  0.0  0.0           1\n",
       "2  1.51618  13.53  3.55  1.54  72.99  0.39  7.78  0.0  0.0           1"
      ]
     },
     "execution_count": 4,
     "metadata": {},
     "output_type": "execute_result"
    }
   ],
   "source": [
    "glass = pd.read_csv('data/glass.csv')\n",
    "glass.columns = ['ri','na','mg','al','si','k','ca','ba','fe','glass_type']\n",
    "glass.head(3)"
   ]
  },
  {
   "cell_type": "markdown",
   "metadata": {
    "id": "B1VUPyyIlQen"
   },
   "source": [
    "**Pretend we want to predict `ri`, how can we know the best set of features? How could we do it using machine learning?**\n",
    "\n",
    "\n",
    "**Answer:** We use *Train/Test/Validation splits* to train the model with the **Train set**, select the best model on a given metric with the **Validation set**, and finally get a measurement of the model performance on the **Test set**.\n"
   ]
  },
  {
   "cell_type": "markdown",
   "metadata": {
    "id": "6teWh8x5swv7"
   },
   "source": [
    "We will use a different regression algorithm, Ridge Regression, that has a *hyperparameter* to showcase the power of train/validation/test splits."
   ]
  },
  {
   "cell_type": "code",
   "execution_count": null,
   "metadata": {
    "id": "bhPKHtwJts7k"
   },
   "outputs": [],
   "source": [
    "# Do the split\n",
    "from sklearn.model_selection import train_test_split\n",
    "\n",
    "glass_pretrain, glass_test = train_test_split(glass, test_size = 0.2, random_state = 42)"
   ]
  },
  {
   "cell_type": "code",
   "execution_count": null,
   "metadata": {
    "id": "3ghXQ3CQt4Tn"
   },
   "outputs": [],
   "source": [
    "glass_train, glass_validation = train_test_split(glass_pretrain, test_size = 0.25, random_state = 42)"
   ]
  },
  {
   "cell_type": "markdown",
   "metadata": {
    "id": "SG-fc4ryuSXF"
   },
   "source": [
    "Notice we do 2 splits to end up with a 60/20/20 proportion!"
   ]
  },
  {
   "cell_type": "code",
   "execution_count": null,
   "metadata": {
    "id": "DgK5XxpVqFXG"
   },
   "outputs": [],
   "source": [
    "from sklearn.linear_model import Ridge\n",
    "\n",
    "\n",
    "# First we create a function that on a given feature set it will train the model and return the model performance\n",
    "def get_model_performance(feature_cols, alpha):\n",
    "\n",
    "  # Basic start\n",
    "  X = glass_train[feature_cols]\n",
    "  y = glass_train.ri\n",
    "  model = Ridge(alpha=alpha)\n",
    "\n",
    "  # Train\n",
    "\n",
    "  model.fit(X, y)\n",
    "\n",
    "  # Predict\n",
    "\n",
    "  y_pred = model.predict(glass_validation[feature_cols])\n",
    "  y_true = glass_validation.ri\n",
    "\n",
    "  return np.sqrt(metrics.mean_squared_error(y_pred, y_true))"
   ]
  },
  {
   "cell_type": "markdown",
   "metadata": {
    "id": "x-s2XkReu99H"
   },
   "source": [
    "Let's test this"
   ]
  },
  {
   "cell_type": "code",
   "execution_count": null,
   "metadata": {
    "colab": {
     "base_uri": "https://localhost:8080/"
    },
    "id": "Lzi6RhuEu8ug",
    "outputId": "92f5ac28-0caa-4844-9d40-a4709bec0c3c"
   },
   "outputs": [
    {
     "data": {
      "text/plain": [
       "0.0021685024069272997"
      ]
     },
     "execution_count": 14,
     "metadata": {},
     "output_type": "execute_result"
    }
   ],
   "source": [
    "get_model_performance(['al'], 1)"
   ]
  },
  {
   "cell_type": "markdown",
   "metadata": {
    "id": "4qRAG571vROY"
   },
   "source": [
    "It works! Let's test a bunch of feature combinations and alphas"
   ]
  },
  {
   "cell_type": "code",
   "execution_count": null,
   "metadata": {
    "id": "C6fXeSInvCBj"
   },
   "outputs": [],
   "source": [
    "results = {}\n",
    "for alpha in np.linspace(0.5, 2, 10):\n",
    "  for feature_cols in [['na','mg'], ['na','mg', 'al'], ['al','si','k']]:\n",
    "    results[(alpha, tuple(feature_cols))] = get_model_performance(feature_cols, alpha=alpha)"
   ]
  },
  {
   "cell_type": "code",
   "execution_count": null,
   "metadata": {
    "colab": {
     "base_uri": "https://localhost:8080/"
    },
    "id": "8O5MH1Yzvae6",
    "outputId": "063d7907-d987-449a-eeae-b7618621f684"
   },
   "outputs": [
    {
     "data": {
      "text/plain": [
       "{(0.5, ('na', 'mg')): 0.002582784313827305,\n",
       " (0.5, ('na', 'mg', 'al')): 0.0022065951256895395,\n",
       " (0.5, ('al', 'si', 'k')): 0.001985998574703533,\n",
       " (0.6666666666666666, ('na', 'mg')): 0.002582743449127876,\n",
       " (0.6666666666666666, ('na', 'mg', 'al')): 0.0022046074240648595,\n",
       " (0.6666666666666666, ('al', 'si', 'k')): 0.00198523926415055,\n",
       " (0.8333333333333333, ('na', 'mg')): 0.002582702558272736,\n",
       " (0.8333333333333333, ('na', 'mg', 'al')): 0.0022027111115613565,\n",
       " (0.8333333333333333, ('al', 'si', 'k')): 0.001984506228521506,\n",
       " (1.0, ('na', 'mg')): 0.0025826616413630946,\n",
       " (1.0, ('na', 'mg', 'al')): 0.0022009031173304814,\n",
       " (1.0, ('al', 'si', 'k')): 0.0019837987913295225,\n",
       " (1.1666666666666665, ('na', 'mg')): 0.002582620698507875,\n",
       " (1.1666666666666665, ('na', 'mg', 'al')): 0.0021991804783616595,\n",
       " (1.1666666666666665, ('al', 'si', 'k')): 0.0019831162978338414,\n",
       " (1.3333333333333333, ('na', 'mg')): 0.0025825797298233205,\n",
       " (1.3333333333333333, ('na', 'mg', 'al')): 0.002197540335399412,\n",
       " (1.3333333333333333, ('al', 'si', 'k')): 0.0019824581141796955,\n",
       " (1.5, ('na', 'mg')): 0.002582538735433103,\n",
       " (1.5, ('na', 'mg', 'al')): 0.002195979929026891,\n",
       " (1.5, ('al', 'si', 'k')): 0.001981823626578578,\n",
       " (1.6666666666666665, ('na', 'mg')): 0.0025824977154677506,\n",
       " (1.6666666666666665, ('na', 'mg', 'al')): 0.002194496595908131,\n",
       " (1.6666666666666665, ('al', 'si', 'k')): 0.001981212240525915,\n",
       " (1.8333333333333333, ('na', 'mg')): 0.002582456670064699,\n",
       " (1.8333333333333333, ('na', 'mg', 'al')): 0.0021930877651824936,\n",
       " (1.8333333333333333, ('al', 'si', 'k')): 0.0019806233800552,\n",
       " (2.0, ('na', 'mg')): 0.002582415599367948,\n",
       " (2.0, ('na', 'mg', 'al')): 0.002191750955004437,\n",
       " (2.0, ('al', 'si', 'k')): 0.0019800564870258238}"
      ]
     },
     "execution_count": 21,
     "metadata": {},
     "output_type": "execute_result"
    }
   ],
   "source": [
    "results"
   ]
  },
  {
   "cell_type": "markdown",
   "metadata": {
    "id": "uc0LxUDGwPNK"
   },
   "source": [
    "Let's select the best"
   ]
  },
  {
   "cell_type": "code",
   "execution_count": null,
   "metadata": {
    "colab": {
     "base_uri": "https://localhost:8080/"
    },
    "id": "a0EbrK-PwGU2",
    "outputId": "2dfa706c-36e4-4596-b429-30801cd6b48e"
   },
   "outputs": [
    {
     "data": {
      "text/plain": [
       "(2.0, ('al', 'si', 'k'))"
      ]
     },
     "execution_count": 24,
     "metadata": {},
     "output_type": "execute_result"
    }
   ],
   "source": [
    "min(results, key=results.get)"
   ]
  },
  {
   "cell_type": "code",
   "execution_count": null,
   "metadata": {
    "colab": {
     "base_uri": "https://localhost:8080/"
    },
    "id": "PlAP4xPswRxl",
    "outputId": "f68fbcfd-8138-43fc-fe67-3fa7ad115ec1"
   },
   "outputs": [
    {
     "data": {
      "text/plain": [
       "0.0019800564870258238"
      ]
     },
     "execution_count": 26,
     "metadata": {},
     "output_type": "execute_result"
    }
   ],
   "source": [
    "results[min(results, key=results.get)]"
   ]
  },
  {
   "cell_type": "markdown",
   "metadata": {
    "id": "R32f5WkUwdYs"
   },
   "source": [
    "Now let's evaluate the true model performance"
   ]
  },
  {
   "cell_type": "code",
   "execution_count": null,
   "metadata": {
    "colab": {
     "base_uri": "https://localhost:8080/"
    },
    "id": "KRgbqCgYwVHg",
    "outputId": "7623cbae-fc16-442b-84e9-06df55358cd1"
   },
   "outputs": [
    {
     "data": {
      "text/plain": [
       "0.0022154513457950113"
      ]
     },
     "execution_count": 27,
     "metadata": {},
     "output_type": "execute_result"
    }
   ],
   "source": [
    "feature_cols = ['al', 'si', 'k']\n",
    "X = glass_train[feature_cols]\n",
    "y = glass_train.ri\n",
    "\n",
    "model = Ridge(alpha=2)\n",
    "\n",
    "model.fit(X, y)\n",
    "\n",
    "y_pred = model.predict(glass_test[feature_cols])\n",
    "y_true = glass_test.ri\n",
    "\n",
    "np.sqrt(metrics.mean_squared_error(y_pred, y_true))"
   ]
  },
  {
   "cell_type": "markdown",
   "metadata": {
    "id": "fHYSLwlgw_C1"
   },
   "source": [
    "Notice how the value is a little worse, but that is OK and expected! This is how we use the *train/validation/test* splits to select the best model"
   ]
  },
  {
   "cell_type": "code",
   "execution_count": null,
   "metadata": {
    "id": "ST4ZOwjmw9nL"
   },
   "outputs": [],
   "source": []
  }
 ],
 "metadata": {
  "colab": {
   "authorship_tag": "ABX9TyM5NyV1yZjTOd8Obt7esIla",
   "include_colab_link": true,
   "provenance": []
  },
  "kernelspec": {
   "display_name": "base",
   "language": "python",
   "name": "python3"
  },
  "language_info": {
   "name": "python",
   "version": "3.10.15"
  }
 },
 "nbformat": 4,
 "nbformat_minor": 0
}
